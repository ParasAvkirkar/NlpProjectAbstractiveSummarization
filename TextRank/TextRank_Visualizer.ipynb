{
 "cells": [
  {
   "cell_type": "code",
   "execution_count": 3,
   "metadata": {},
   "outputs": [],
   "source": [
    "from TextRank import TextRank"
   ]
  },
  {
   "cell_type": "code",
   "execution_count": 4,
   "metadata": {},
   "outputs": [],
   "source": [
    "stopwords_file_path = '/home/sbu_nlp2019/AbstractiveTextSummarization' + '/Model2/long_stopwords.txt'"
   ]
  },
  {
   "cell_type": "code",
   "execution_count": 5,
   "metadata": {},
   "outputs": [],
   "source": [
    "textRankProcessor = TextRank(stopwords_file_path)"
   ]
  },
  {
   "cell_type": "code",
   "execution_count": 6,
   "metadata": {},
   "outputs": [],
   "source": [
    "from nltk.tokenize import word_tokenize\n",
    "import re\n",
    "import collections\n",
    "import pickle\n",
    "import numpy as np\n",
    "from gensim.models.keyedvectors import KeyedVectors\n",
    "from gensim.test.utils import get_tmpfile\n",
    "from gensim.scripts.glove2word2vec import glove2word2vec"
   ]
  },
  {
   "cell_type": "code",
   "execution_count": 9,
   "metadata": {},
   "outputs": [],
   "source": [
    "Text = \"the united nations ' humanitarian chief john holmes arrived in ethiopia monday to tour regions affected by drought , which has left some eight million people in need of urgent food aid .\""
   ]
  },
  {
   "cell_type": "code",
   "execution_count": 10,
   "metadata": {},
   "outputs": [
    {
     "data": {
      "text/plain": [
       "[('the', 0.0),\n",
       " ('united', 0.64710397),\n",
       " ('nations', 0.0),\n",
       " (\"'\", 0.0),\n",
       " ('humanitarian', 1.1300366),\n",
       " ('chief', 1.089638),\n",
       " ('john', 1.065463),\n",
       " ('holmes', 1.0523089),\n",
       " ('arrived', 0.0),\n",
       " ('in', 0.0),\n",
       " ('ethiopia', 1.0481833),\n",
       " ('monday', 1.0523086),\n",
       " ('to', 0.0),\n",
       " ('tour', 0.0),\n",
       " ('regions', 0.0),\n",
       " ('affected', 0.0),\n",
       " ('by', 0.0),\n",
       " ('drought', 1.08964),\n",
       " (',', 0.0),\n",
       " ('which', 0.0),\n",
       " ('has', 0.0),\n",
       " ('left', 0.0),\n",
       " ('some', 0.0),\n",
       " ('eight', 0.0),\n",
       " ('million', 0.0),\n",
       " ('people', 1.1300387),\n",
       " ('in', 0.0),\n",
       " ('need', 0.0),\n",
       " ('of', 0.0),\n",
       " ('urgent', 0.99123394),\n",
       " ('food', 0.6471075),\n",
       " ('aid', 0.15),\n",
       " ('.', 0.0)]"
      ]
     },
     "execution_count": 10,
     "metadata": {},
     "output_type": "execute_result"
    }
   ],
   "source": [
    "textRankProcessor.execute(Text)"
   ]
  },
  {
   "cell_type": "code",
   "execution_count": null,
   "metadata": {},
   "outputs": [],
   "source": []
  }
 ],
 "metadata": {
  "kernelspec": {
   "display_name": "Python 3",
   "language": "python",
   "name": "python3"
  },
  "language_info": {
   "codemirror_mode": {
    "name": "ipython",
    "version": 3
   },
   "file_extension": ".py",
   "mimetype": "text/x-python",
   "name": "python",
   "nbconvert_exporter": "python",
   "pygments_lexer": "ipython3",
   "version": "3.6.9"
  }
 },
 "nbformat": 4,
 "nbformat_minor": 4
}
